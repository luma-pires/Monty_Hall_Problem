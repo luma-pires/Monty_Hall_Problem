{
  "nbformat": 4,
  "nbformat_minor": 0,
  "metadata": {
    "colab": {
      "provenance": []
    },
    "kernelspec": {
      "name": "python3",
      "display_name": "Python 3"
    },
    "language_info": {
      "name": "python"
    }
  },
  "cells": [
    {
      "cell_type": "code",
      "execution_count": 1,
      "metadata": {
        "id": "DXPAd__LnuSg"
      },
      "outputs": [],
      "source": [
        "# Bibliotecas necessárias:\n",
        "\n",
        "import random\n",
        "import matplotlib.pyplot as plt"
      ]
    },
    {
      "cell_type": "code",
      "source": [
        "doors = [1, 2, 3]"
      ],
      "metadata": {
        "id": "UY98medKoqDL"
      },
      "execution_count": 2,
      "outputs": []
    },
    {
      "cell_type": "code",
      "source": [
        "# Função que determina se o participante ganhou o prêmio ou não:\n",
        "\n",
        "def win(change_door, print_game=False):\n",
        "\n",
        "  right_door = random.choice(doors) # Porta com o prêmio\n",
        "  picked_door = random.choice(doors) # Porta escolhida pelo participante\n",
        "\n",
        "  remaing_doors = [door for door in doors if door != picked_door] # Portas não escolhidas\n",
        "  two_final_doors = {'picked_door': picked_door}\n",
        "\n",
        "  if right_door == picked_door: # Se o participante for sortudo e escolher a porta correta\n",
        "\n",
        "    opened_door = random.choice(remaing_doors) # Qualquer uma das portas não escolhidas será aberta (aleatório)\n",
        "    remaining_door = [door for door in remaing_doors if door != opened_door][0] # Porta não aberta - e sem o prêmio\n",
        "    two_final_doors['other_door'] = remaining_door\n",
        "\n",
        "  else: # Se o participante escolher uma das portas sem o prêmio\n",
        "    two_final_doors['other_door'] = right_door # Será aberta a outra porta sem o prêmio e ficará isponível para a escolha final a porta com o prêmio\n",
        "\n",
        "  final_door_picked = two_final_doors['other_door'] if change_door else two_final_doors['picked_door'] # Escolha final da porta, a depender da decisão de trocar ou não\n",
        "  result = True if final_door_picked == right_door else False # Resultado\n",
        "\n",
        "  if print_game:\n",
        "    print(f'Porta Escolhida: {picked_door}')\n",
        "    print(f'Porta Correta: {right_door}')\n",
        "    print(f'Porta Final: {final_door_picked}')\n",
        "    print('Parabéns!!! Você ganhoooooou :D \\n') if result else print('você perdeu... :( \\n')\n",
        "\n",
        "  return result"
      ],
      "metadata": {
        "id": "7H_tQZjbo0ql"
      },
      "execution_count": 3,
      "outputs": []
    },
    {
      "cell_type": "code",
      "source": [
        "# # # Testando a Função:\n",
        "\n",
        "print('Mudando a porta:')\n",
        "win(True, print_game=True)\n",
        "\n",
        "print('Mantendo a porta:')\n",
        "win(False, print_game=True)"
      ],
      "metadata": {
        "colab": {
          "base_uri": "https://localhost:8080/"
        },
        "id": "vLxMJIbhvx2q",
        "outputId": "06e1bce3-f8ca-4053-946f-2ce340f1a240"
      },
      "execution_count": 4,
      "outputs": [
        {
          "output_type": "stream",
          "name": "stdout",
          "text": [
            "Mudando a porta:\n",
            "Porta Escolhida: 1\n",
            "Porta Correta: 1\n",
            "Porta Final: 2\n",
            "você perdeu... :( \n",
            "\n",
            "Mantendo a porta:\n",
            "Porta Escolhida: 1\n",
            "Porta Correta: 2\n",
            "Porta Final: 1\n",
            "você perdeu... :( \n",
            "\n"
          ]
        },
        {
          "output_type": "execute_result",
          "data": {
            "text/plain": [
              "False"
            ]
          },
          "metadata": {},
          "execution_count": 4
        }
      ]
    },
    {
      "cell_type": "code",
      "source": [
        "# Função para simular a situação n vezes:\n",
        "\n",
        "def simulation(change_door, n=1000000):\n",
        "  return [win(change_door) for i in range(0, n)]"
      ],
      "metadata": {
        "id": "suoLmcTXwxvj"
      },
      "execution_count": 5,
      "outputs": []
    },
    {
      "cell_type": "code",
      "source": [
        "# Simulação: TROCANDO A PORTA\n",
        "results_changing_door = simulation(True)\n",
        "\n",
        "# Simulação: NÃO TROCANDO A PORTA\n",
        "results_not_changing_door = simulation(False)"
      ],
      "metadata": {
        "id": "T6Vv-qvvxYb-"
      },
      "execution_count": 6,
      "outputs": []
    },
    {
      "cell_type": "code",
      "source": [
        "# Comparando os resultados:\n",
        "\n",
        "# Simulação: TROCANDO A PORTA\n",
        "results_changing_door_1 = sum(results_changing_door)/len(results_changing_door)\n",
        "print(f'Probabilidade de vitória TROCANDO A PORTA: {round(results_changing_door_1*100,2)}%')\n",
        "\n",
        "# Simulação: NÃO TROCANDO A PORTA\n",
        "results_not_changing_door_1 = sum(results_not_changing_door)/len(results_not_changing_door)\n",
        "print(f'Probabilidade de vitória NÃO TROCANDO A PORTA: {round(results_not_changing_door_1*100,2)}%')"
      ],
      "metadata": {
        "colab": {
          "base_uri": "https://localhost:8080/"
        },
        "id": "tSFaQyl1xeRG",
        "outputId": "9060b1ac-e226-4aaf-b71d-95099024ce54"
      },
      "execution_count": 7,
      "outputs": [
        {
          "output_type": "stream",
          "name": "stdout",
          "text": [
            "Probabilidade de vitória TROCANDO A PORTA: 66.65%\n",
            "Probabilidade de vitória NÃO TROCANDO A PORTA: 33.29%\n"
          ]
        }
      ]
    },
    {
      "cell_type": "code",
      "source": [
        "# Lei dos Grandes Números na Prática\n",
        "\n",
        "n = 10000\n",
        "list_prob_true = []\n",
        "list_prob_false = []\n",
        "\n",
        "for i in range(0, n):\n",
        "\n",
        "  results_changing_door = simulation(True, n=i+1)\n",
        "  list_prob_true.append(round((sum(results_changing_door)/len(results_changing_door))*100,2))\n",
        "\n",
        "  results_not_changing_door = simulation(False, n=i+1)\n",
        "  list_prob_false.append(round((sum(results_not_changing_door)/len(results_not_changing_door))*100,2))\n",
        "\n",
        "plt.title('Probabilidade de vitória conforme o número ne repetições (n) aumenta')\n",
        "plt.scatter(range(0, n), list_prob_true, label='Mudando de porta', color='blue')\n",
        "plt.scatter(range(0, n), list_prob_false, label='Não mudando de porta', color='red')\n",
        "plt.legend()\n",
        "\n",
        "plt.show()"
      ],
      "metadata": {
        "colab": {
          "base_uri": "https://localhost:8080/",
          "height": 453
        },
        "id": "h-sN1BgyLlVp",
        "outputId": "05f65899-5b7c-47e9-cef7-0ff40263ff5d"
      },
      "execution_count": 14,
      "outputs": [
        {
          "output_type": "display_data",
          "data": {
            "text/plain": [
              "<Figure size 640x480 with 1 Axes>"
            ],
            "image/png": "[encoded data removed]"
          },
          "metadata": {}
        }
      ]
    },
    {
      "cell_type": "markdown",
      "source": [
        "Resumo: se você alguma vez se deparar com um problema semelhante, mudar de porta talvez possa ser mais vantajoso...\n",
        "---\n",
        "\n"
      ],
      "metadata": {
        "id": "qvoTOeyZN9zg"
      }
    }
  ]
}
